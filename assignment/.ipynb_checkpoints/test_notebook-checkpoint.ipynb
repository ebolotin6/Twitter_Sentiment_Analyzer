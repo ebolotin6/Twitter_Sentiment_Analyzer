{
 "cells": [
  {
   "cell_type": "markdown",
   "metadata": {},
   "source": [
    "<img src=\"https://datasciencedegree.wisconsin.edu/wp-content/themes/data-gulp/images/logo.svg\" width=\"300\">\n"
   ]
  },
  {
   "cell_type": "markdown",
   "metadata": {},
   "source": [
    "# Lesson 13 Activity -- Using ```tweepy``` for Data Mining"
   ]
  },
  {
   "cell_type": "markdown",
   "metadata": {},
   "source": [
    "This is an introduction to data collection from <a href=\"http://www.twitter.com/\">Twitter</a> using the [`tweepy`](http://www.tweepy.org/) package."
   ]
  },
  {
   "cell_type": "markdown",
   "metadata": {},
   "source": [
    "---\n",
    "\n",
    "## Getting set up -- things you do about once"
   ]
  },
  {
   "cell_type": "markdown",
   "metadata": {},
   "source": [
    "### Install Tweepy\n",
    "\n",
    "You must install the tweepy package from either Anaconda or the terminal on your computer before using it!"
   ]
  },
  {
   "cell_type": "markdown",
   "metadata": {},
   "source": [
    "### Make a twitter account\n",
    "\n",
    "You'll need to set up an app at <a href=\"https://apps.twitter.com/\">apps.twitter.com</a>."
   ]
  },
  {
   "cell_type": "markdown",
   "metadata": {},
   "source": [
    "### Save your credentials to an external file\n",
    "\n",
    "Make a plain text file on your computer called `twitter_credentials.py`, and put it anywhere but this directory.  I put mine in my home directory for my user.  It will look something like this:\n",
    "\n",
    "    con_key = 'your consumer key goes here'\n",
    "    con_secret = 'your consumer secret goes here'\n",
    "    acc_token = 'your access token goes here'\n",
    "    acc_secret = 'your access secret goes here'\n",
    "    \n",
    "* Save your consumer key, consumer secret, access token, and access secret there.\n",
    "* Don't share these secrets with others!  \n",
    "* It's also possible to generate access tokens and secrets from within an app, but now's not the right time for this."
   ]
  },
  {
   "cell_type": "markdown",
   "metadata": {},
   "source": [
    "---\n",
    "\n",
    "## Preliminaries to using tweepy -- things you do once per session\n",
    "\n",
    "You have to do these things about once per session.  If you close your notebook, or restart the kernel, then you have to do these things before you can again use the Tweepy interface to the Twitter API."
   ]
  },
  {
   "cell_type": "markdown",
   "metadata": {},
   "source": [
    "#### 1. Gain access to the Tweepy library\n",
    "\n",
    "As you would any other Python library, `import`."
   ]
  },
  {
   "cell_type": "code",
   "execution_count": 1,
   "metadata": {},
   "outputs": [],
   "source": [
    "import tweepy"
   ]
  },
  {
   "cell_type": "markdown",
   "metadata": {},
   "source": [
    "#### 2. Load your credentials from the external file\n",
    "\n",
    "Invoke a python plain text source file located somewhere else on your computer."
   ]
  },
  {
   "cell_type": "code",
   "execution_count": 4,
   "metadata": {},
   "outputs": [],
   "source": [
    "con_key = 'Mzw4QX0V7aogMB7xSfflJJBXS'\n",
    "con_secret = 'NhKzSqRP8jlWqdY5LzcxM1tvNgtCJPsyRDifPg3twhk3KWPxKq'\n",
    "acc_token = '1009600220986916864-SaVmz9QNKC59hXexHcr0lkbiNtMe3u'\n",
    "acc_secret = 'eUdvz4PLt1jzzKYAmLLh3tBeJEXrtuoTmvsxst3hwWJBl'\n",
    "# this cell will evaluate silently 🙊, and not print anything.  \n",
    "# This is desired, because a person with your keys can act as you on Twitter in literally every way 😟"
   ]
  },
  {
   "cell_type": "markdown",
   "metadata": {},
   "source": [
    "🔐 If you need to check whether the four variables, such as `con_key` have the correct value, insert a cell and print the value, then delete the cell.  Keep your credentials secret and safe!!!  "
   ]
  },
  {
   "cell_type": "markdown",
   "metadata": {},
   "source": [
    "#### 3. Make an `API` object\n",
    "\n",
    "The `tweepy.API` object handles construction of the Twitter API calls for you.  It's a convenience layer, but it's really dang convenient!"
   ]
  },
  {
   "cell_type": "code",
   "execution_count": 15,
   "metadata": {},
   "outputs": [],
   "source": [
    "#Use tweepy.OAuthHandler to create an authentication using the given key and secret\n",
    "auth = tweepy.OAuthHandler(consumer_key=con_key, consumer_secret=con_secret)\n",
    "auth.set_access_token(acc_token, acc_secret)\n",
    "# auth = tweepy.AppAuthHandler(con_key, con_secret)\n",
    "\n",
    "#Connect to the Twitter API using the authentication\n",
    "# api = tweepy.API(auth, wait_on_rate_limit=True, wait_on_rate_limit_notify=True)\n",
    "api = tweepy.API(auth)"
   ]
  },
  {
   "cell_type": "markdown",
   "metadata": {},
   "source": [
    "## Using the API\n",
    "\n",
    "Twitter has two versions of its API:\n",
    "* The [REST](https://en.wikipedia.org/wiki/Representational_state_transfer) [API](https://en.wikipedia.org/wiki/Application_programming_interface) allows you to _pull_ information from Twitter, or _push_ information back to Twitter.  For example,  \n",
    "  💡 if I wanted to have a Python script that ran as a CRON job to automatically tweet for me under certain conditions, I would use the REST API.\n",
    "* The Streaming API allows us to monitor Twitter in real time, grabbing tweets as they are made.  For example,  \n",
    "  💡 if I wanted to make a little device powered by a Raspberry Pi that showed interesting tweets in real time on a tiny screen by my desk, I would use the streaming API."
   ]
  },
  {
   "cell_type": "markdown",
   "metadata": {},
   "source": [
    "### Method 1. The REST API\n",
    "\n",
    "The REST API allows you to _pull_ information from Twitter, or _push_ information back to Twitter.  We'll use the REST API to run a specific search.  You could also use the REST API to make automatic tweets on Twitter, or get information about specific users."
   ]
  },
  {
   "cell_type": "code",
   "execution_count": 8,
   "metadata": {
    "scrolled": true
   },
   "outputs": [],
   "source": [
    "#Use the REST API for a static search\n",
    "#Our example finds recent tweets using the hashtag #datascience\n",
    "\n",
    "# tweet_list = api.search(q='#%23datascience') #%23 is used to specify '#'\n",
    "tweet_list = api.search(q = \"%23climate OR %23environment\", per_page = 5)"
   ]
  },
  {
   "cell_type": "raw",
   "metadata": {},
   "source": [
    "Coca cola id: 26787673"
   ]
  },
  {
   "cell_type": "markdown",
   "metadata": {},
   "source": [
    "See [twitter's search documentation](https://dev.twitter.com/rest/public/search) for examples of query operators.  Pay attention to how to URL encode your query.  [This w3schools page](https://www.w3schools.com/tags/ref_urlencode.asp) has information on what `%23` and other encodings for URL's mean."
   ]
  },
  {
   "cell_type": "markdown",
   "metadata": {},
   "source": [
    "We retrieve a SearchResult object for each tweet, full of data such as the language, the identity of the poster, etc."
   ]
  },
  {
   "cell_type": "code",
   "execution_count": 80,
   "metadata": {
    "scrolled": false
   },
   "outputs": [
    {
     "data": {
      "text/plain": [
       "['__class__',\n",
       " '__delattr__',\n",
       " '__dict__',\n",
       " '__dir__',\n",
       " '__doc__',\n",
       " '__eq__',\n",
       " '__format__',\n",
       " '__ge__',\n",
       " '__getattribute__',\n",
       " '__getstate__',\n",
       " '__gt__',\n",
       " '__hash__',\n",
       " '__init__',\n",
       " '__init_subclass__',\n",
       " '__le__',\n",
       " '__lt__',\n",
       " '__module__',\n",
       " '__ne__',\n",
       " '__new__',\n",
       " '__reduce__',\n",
       " '__reduce_ex__',\n",
       " '__repr__',\n",
       " '__setattr__',\n",
       " '__sizeof__',\n",
       " '__str__',\n",
       " '__subclasshook__',\n",
       " '__weakref__',\n",
       " '_api',\n",
       " '_json',\n",
       " 'author',\n",
       " 'contributors',\n",
       " 'coordinates',\n",
       " 'created_at',\n",
       " 'destroy',\n",
       " 'entities',\n",
       " 'favorite',\n",
       " 'favorite_count',\n",
       " 'favorited',\n",
       " 'geo',\n",
       " 'id',\n",
       " 'id_str',\n",
       " 'in_reply_to_screen_name',\n",
       " 'in_reply_to_status_id',\n",
       " 'in_reply_to_status_id_str',\n",
       " 'in_reply_to_user_id',\n",
       " 'in_reply_to_user_id_str',\n",
       " 'is_quote_status',\n",
       " 'lang',\n",
       " 'metadata',\n",
       " 'parse',\n",
       " 'parse_list',\n",
       " 'place',\n",
       " 'possibly_sensitive',\n",
       " 'quoted_status',\n",
       " 'quoted_status_id',\n",
       " 'quoted_status_id_str',\n",
       " 'retweet',\n",
       " 'retweet_count',\n",
       " 'retweeted',\n",
       " 'retweets',\n",
       " 'source',\n",
       " 'source_url',\n",
       " 'text',\n",
       " 'truncated',\n",
       " 'user']"
      ]
     },
     "execution_count": 80,
     "metadata": {},
     "output_type": "execute_result"
    }
   ],
   "source": [
    "dir(tweet_list[0])"
   ]
  },
  {
   "cell_type": "code",
   "execution_count": 12,
   "metadata": {
    "scrolled": false
   },
   "outputs": [
    {
     "data": {
      "text/plain": [
       "\"Balck and yellow..... Doesn't it look nice?\\n\\n#TheVisuality #GuruShots #GuruShotsChallenge\\n#autohash #nature #flora… https://t.co/2BlGDo7P3D\""
      ]
     },
     "execution_count": 12,
     "metadata": {},
     "output_type": "execute_result"
    }
   ],
   "source": [
    "#We can use the dir command to view a list of the attributes of each tweet\n",
    "tweet_list[0].text"
   ]
  },
  {
   "cell_type": "code",
   "execution_count": 94,
   "metadata": {},
   "outputs": [
    {
     "data": {
      "text/plain": [
       "(Friendship(_api=<tweepy.api.API object at 0x10b22e940>, id=43092107, id_str='43092107', screen_name='ClimateHome', following=True, followed_by=False, live_following=False, following_received=None, following_requested=None, notifications_enabled=None, can_dm=True, blocking=None, blocked_by=None, muting=None, want_retweets=None, all_replies=None, marked_spam=None),\n",
       " Friendship(_api=<tweepy.api.API object at 0x10b22e940>, id=26787673, id_str='26787673', screen_name='CocaCola', following=False, followed_by=True, following_received=None, following_requested=None))"
      ]
     },
     "execution_count": 94,
     "metadata": {},
     "output_type": "execute_result"
    }
   ],
   "source": [
    "#Let's display the text of each tweet we found.\n",
    "userids = [tweet.user.id for tweet in tweet_list]\n",
    "userids\n",
    "\n",
    "test = api.show_friendship(source_id = 43092107, target_id = 26787673)\n",
    "test"
   ]
  },
  {
   "cell_type": "markdown",
   "metadata": {},
   "source": [
    "By default, the REST API returns 15 tweets.  We can get up to 100 by using the argument \"count\"."
   ]
  },
  {
   "cell_type": "code",
   "execution_count": 75,
   "metadata": {},
   "outputs": [
    {
     "data": {
      "text/plain": [
       "95"
      ]
     },
     "execution_count": 75,
     "metadata": {},
     "output_type": "execute_result"
    }
   ],
   "source": [
    "tweet_list = api.search(q='#%23datascience', count = 100)\n",
    "len(tweet_list)"
   ]
  },
  {
   "cell_type": "markdown",
   "metadata": {},
   "source": [
    "If we want more than 100 tweets, we can use a *while* loop.  The max_id argument lets us collect tweets that are older than a particular tweet index (in this case, the oldest tweet we've seen so far).\n",
    "\n",
    "The `try/except/else` structure lets us fail gracefully in case the API search returns an error (e.g., if we run up against Twitter's rate limits)."
   ]
  },
  {
   "cell_type": "code",
   "execution_count": 28,
   "metadata": {},
   "outputs": [
    {
     "data": {
      "text/plain": [
       "291"
      ]
     },
     "execution_count": 28,
     "metadata": {},
     "output_type": "execute_result"
    }
   ],
   "source": [
    "num_needed = 200\n",
    "tweet_list = []\n",
    "last_id = -1 # id of last tweet seen\n",
    "while len(tweet_list) < num_needed:\n",
    "    try:\n",
    "        new_tweets = api.search(q = '#%23datascience', count = 100, max_id = str(last_id - 1))\n",
    "    except tweepy.TweepError as e:\n",
    "        print(\"Error\", e)\n",
    "        break\n",
    "    else:\n",
    "        if not new_tweets:\n",
    "            print(\"Could not find any more tweets!\")\n",
    "            break\n",
    "        tweet_list.extend(new_tweets)\n",
    "        last_id = new_tweets[-1].id\n",
    "\n",
    "len(tweet_list)"
   ]
  },
  {
   "cell_type": "markdown",
   "metadata": {},
   "source": [
    "Note that the free REST API restricts the number of tweets you can retrieve, and the dates: you may not be able to retrieve tweets that are more than a week old.  Pay attention to this restriction as you approach your final project topic!"
   ]
  },
  {
   "cell_type": "markdown",
   "metadata": {},
   "source": [
    "## Method 2. The Streaming API\n",
    "\n",
    "The Streaming API allows us to monitor Twitter in real time, grabbing tweets as they are made."
   ]
  },
  {
   "cell_type": "markdown",
   "metadata": {},
   "source": [
    "The ```tweepy``` package includes a class called ```StreamListener``` which monitors Twitter for us.  However, by default StreamListener does nothing with the tweets it collects.\n",
    "\n",
    "In this demonstration, we'll modify ```StreamListener``` to make a class that prints each tweet we're interested in to the screen.  Later, you may wish to create your own class which saves information from tweets to a file."
   ]
  },
  {
   "cell_type": "code",
   "execution_count": 67,
   "metadata": {
    "scrolled": true
   },
   "outputs": [],
   "source": [
    "#We create a subclass of tweepy.StreamListener to add a response to on_status\n",
    "\n",
    "# class PrintingStreamListener(tweepy.StreamListener):\n",
    "#     def on_status(self, status):\n",
    "#         print(status.text)\n",
    "        \n",
    "#     #disconnect the stream if we receive an error message indicating we are overloading Twitter\n",
    "#     def on_error(self, status_code):\n",
    "#         if status_code == 420:\n",
    "#             #returning False in on_data disconnects the stream\n",
    "#             return False\n",
    "        \n",
    "class MyStreamListener(tweepy.StreamListener):\n",
    "\tdef on_data(self, data):\n",
    "\t\tcount = 0\n",
    "\t\twith open('tweet_stream_v2.json', 'a') as file:\n",
    "\t\t\tfile.write(data)\n",
    "\t\tcount += 1\n",
    "\t\tprint(count)\n",
    "\n",
    "\t#disconnect the stream if we receive an error message indicating we are overloading Twitter\n",
    "\tdef on_error(self, status_code):\n",
    "\t\tprint(status_code)\n",
    "\t\tif status_code == 420:\n",
    "\t\t#returning False in on_data disconnects the stream\n",
    "\t\t\treturn False        "
   ]
  },
  {
   "cell_type": "markdown",
   "metadata": {},
   "source": [
    "Once we have created our subclass, we can set up our own Twitter stream."
   ]
  },
  {
   "cell_type": "code",
   "execution_count": 68,
   "metadata": {},
   "outputs": [],
   "source": [
    "#We create and authenticate an instance of our new ```PrintingStreamListener``` class\n",
    "\n",
    "my_stream_listener = PrintingStreamListener()\n",
    "my_stream = tweepy.Stream(auth = api.auth, listener=my_stream_listener)\n",
    "# dir(my_stream_listener)"
   ]
  },
  {
   "cell_type": "markdown",
   "metadata": {},
   "source": [
    "We'll use the ```track``` command to look for tweets with a specific keyword.  You can read more about constructing searches with ```track``` in the <a href=\"https://dev.twitter.com/streaming/overview/request-parameters#track\">Twitter streaming API documentation</a>."
   ]
  },
  {
   "cell_type": "code",
   "execution_count": 69,
   "metadata": {
    "scrolled": true
   },
   "outputs": [
    {
     "name": "stdout",
     "output_type": "stream",
     "text": [
      "RT @Inside_Showbiz: #KathNiel (@bernardokath @imdanielpadilla) of La Luna Sangre is nominated as Favorite TV Loveteam! Retweet to vote!\n",
      "\n",
      "#I…\n",
      "RT @StephenAmell: Hey friendos — I can’t vote. I am a US resident but until I spend over 50% of my year in the States for 5 years I can’t a…\n",
      "This is the first time that I vote for someone I really believe in. #ivoted #betofortexas\n",
      "RT @GovMikeHuckabee: I hope my candidates win, but if not, I'll still cherish my right to vote. I won't scream at ppl in restaurants, scrat…\n",
      "RT @wearepoweruk: MUSIC FANS! 💗 VOTE for your favourite right now! \n",
      "\n",
      "The winner 🥇 will have 1 whole hour of music played, this Sunday at 7p…\n",
      "#maddow #TheVote #msnbc #KY06\n",
      "RT @NathanHRubin: Long lines aren’t a sign of a healthy democracy. They’re a sign it’s too hard to vote. \n",
      "\n",
      "1) Election Day should be a holi…\n",
      "RT @MMFlint: There is still time to vote! As long as u are in line by the time the polls close, you can vote! Go now! And to anyone who is…\n",
      "RT @ACLU: BREAKING: Arizona county elections officials turned away our client, a naturalized citizen, on the basis of citizenship.\n",
      "\n",
      "If they…\n",
      "RT @watspn1013: GOOD MORNING PATRIOTS\n",
      "\n",
      "\"I pledge allegiance to the Flag of the United States of America, and to the Republic for which it s…\n",
      "RT @jessforcongress: If you are in line waiting to vote, STAY IN LINE!\n",
      "\n",
      "Don't be discouraged! As long as you make it to your poll by 8 PM,…\n",
      "30 MINS TO GET IN LINE &amp; VOTE IF YOU HAVE NOT! WHY SHOULD YOU VOTE?! BC YOU ARE FORTUNATE ENOUGH TO BE ALIVE IN A T… https://t.co/X2jlomwGgc\n",
      "RT @PVeritas_Action: Electioneering in NJ: \"Absolutely!\" Vote for Democrats; Menendez is \"Better\" Says Elections Official: https://t.co/Uu5…\n",
      "@Sifill_LDF @NAACP_LDF #StayInLine #ElectionDay #Georgia #VOTE\n",
      "RT @kumailn: Please don’t leave the line even if it’s long. You’ll never regret staying in line. You’ll regret leaving. Text. Scroll twitte…\n",
      "RT @JusticeBlaine: I'm organizing a list of people who don't vote so I have someone to send my mental health invoices to. #IVoted #IVotedBl…\n",
      "RT @JamilSmith: There may be no more revealing moment in this election than @BrianKempGA failing to have the proper identification to vote.…\n",
      "RT @paolamendoza: Florida and Georgia stay in line!\n",
      "\n",
      "If the polls close while you are in line they MUST let you vote!\n",
      "\n",
      "Stay in line. The re…\n",
      "RT @feministabulous: georgia has just extended voting its not too late to vote! https://t.co/1rniQ7ei5B\n",
      "RT @samiewamiee: These are the people that vote when you don’t. https://t.co/hTXwIdzvXI\n",
      "RT @PhilBredesen: It’s not too late to vote. If you’re in line by the time polls close at 7:00 CT/8:00 ET, you can still vote, no matter ho…\n",
      "RT @TheRickWebster: I’m Rick Webster, and I approve this message. With your vote, I will bring an expansion of the college football playoff…\n",
      "RT @mfolhouston: Less than 2 hours left to vote in Texas! \n",
      "\n",
      "Remember STAY IN LINE of your are still in line @ 7p, you can still vote\n",
      "\n",
      "If th…\n",
      "Good question.\n",
      "RT @realDonaldTrump: Congressman Randy Hultgren (R) of Illinois is doing a great job. Get out and Vote for Randy - Total Endorsement!\n",
      "@cheriseguilfoil 4 out of 6 people in my office didnt vote either. WTF\n",
      "RT @chrissyteigen: DON'T BE THE ASSHOLE THAT JUST TWEETED ABOUT VOTING FOR THE PAST 3 MONTHS AND NOT VOTE PLEASE - TODAY IS DOPE\n",
      "Congrats @SenSanders on your re-election to the Senate. I can't wait to vote for you again in 2020. #PresidentSanders\n",
      "U.S. Republican representative candidate Trey Hollingsworth is leading with 65% of district 9’s vote while his Demo… https://t.co/Hp2NqJOHqz\n",
      "RT @RealJamesWoods: If you vote for @staceyabrams, you’ll get this... https://t.co/kwiHIHziFr\n",
      "RT @gondola__: Wrong election mama. Keep that energy tho. https://t.co/2EotkoHKnv\n",
      "RT @MattxRed: My grandma has been struggling with her health this year — she wheeled herself down to the polls because she doesn’t want her…\n",
      "RT @Baby_Groot_: LES ROBO UN MINUTO ... \n",
      "\n",
      "🇲🇽🇲🇽🇲🇽🇲🇽🇲🇽🇲🇽🇲🇽🇲🇽\n",
      "\n",
      "VOTE USTED POR LA NOTICIA MÁS MEXICANA DE TODOS LOS TIEMPOS\n",
      "\n",
      "🌶🌶🌶🌶🌶🌶🌶🌶 https://t…\n",
      "RT @gondola__: Wrong election mama. Keep that energy tho. https://t.co/2EotkoHKnv\n",
      "RT @TrumpDraws: signed print giveaway #vote #iVoted4TrumpDraws pls rt &amp; share https://t.co/OJqKEw0DLF\n",
      "RT @GayRepublicSwag: ATTENTION OHIO VOTERS!! Sherrod Brown is a wolf in sheep's clothing. He is no moderate. As Hillary's number 2 pick to…\n",
      "RT @WhitneyChirps: I just voted &amp; was told, along with everyone else at the polling site that we're reg. to vote by mail but none of us are…\n",
      "RT @ptiberry: Midterms: Sur 15% en Floride, les démocrates en tête, Nelson au Sénat et Andrew Gillum pour gouverneur. Mais attention, c'est…\n",
      "RT @kylegriffin1: Pacific Daily News: Former Democratic lawmaker Lou Leon Guerrero will become Guam's first female governor, winning more t…\n",
      "RT @logicalmel: When my daughter went to vote today, we found out that our county Humane Society was giving out kittens with no adoption co…\n",
      "RT @lipgIosse: y'all love acting like this woman wasn't a whole racist who said she would rather cut her arm off than fight for black peopl…\n",
      "RT @AndrewGillum: 🚨🚨🚨STAY IN LINE IF YOU ARE WAITING TO VOTE 🚨🚨🚨\n",
      "RT @mflynnJR: Sooo Dems are the party of betas....got it.\n",
      "#VoteRed\n",
      "#ElectionDay https://t.co/cnNU71Aknq\n",
      "RT @LauraLoomer: Every Cuban I met in Florida is voting Republican. \n",
      "\n",
      "The black community is also excited to vote for @RonDeSantisFL! \n",
      "\n",
      "The…\n",
      "RT @Money_Myles_: Niggaz vote one time and think they marched with dr.king and shit\n",
      "RT @billyeichner: STAY IN LINE. STAY IN LINE NO MATTER WHAT. If the line is long, it’s raining, you’re bored, you’re tired, please hear me…\n",
      "RT @mikandynothem: As if Trump Presidency wasn't signficant enough already, he's made the #MidtermElections2018 the most important in histo…\n",
      "RT @AP_Politics: BREAKING: Republican Ted Yoho wins re-election to U.S. House in Florida's 3rd congressional district. #APracecall at 7:13…\n",
      "@leahswander @UofDenver We appreciate your patience, if you're interested the Denver Police District 1 is nearby wi… https://t.co/Jcm0hG06y8\n",
      "RT @plies: 😂😂😂 Andrew Gillum Gone Get'em &amp; Stacey Abrams My Winner!!!!! 😂😂😂😂😂 #Vote #Vote #Vote  #AllTheeAbove https://t.co/SB09yp3PkG\n",
      "RT @RBReich: It is time for all of us to reject the scourge of Trumpism and begin the process of rebuilding this country. Vote! #ElectionDa…\n",
      "RT @GovMikeHuckabee: The press (as a whole) aren't \"enemy of the people\" but is this kind of reporter a \"friend of the people?\" Being this…\n",
      "RT @jewelofjkt: On a ridiculous line to vote in NY. Broken scanners. https://t.co/NnuGH00BhL\n",
      "@SpaceJenkins09 @TheLadeesMan @TheRealYG17 Yep. This. I think this is the first time I didn’t vote for multiple parties.\n",
      "RT @mmpadellan: PRO TIP for #ElectionNight:\n",
      "\n",
      "If you are in line to vote, and the official closing time for your polling station is up, STAY…\n",
      "RT @Eugene_Scott: Thinking of my 77 yr old dad today who as a paper boy for the @washingtonpost delivered news about elections that his par…\n",
      "@seanhannity If she's really 100% sure, then it'd be because they already rigged the vote.\n",
      "RT @RealSaavedra: WATCH: Texas Poll Worker Tells Undercover Reporter They've Allowed 'Tons' Of DACA Recipients To Vote https://t.co/3sJ3IK7…\n",
      "RT @MattsIdeaShop: BREAKING: Fascist Dictator Accidentally Lets Everyone Vote. https://t.co/L4O4YoJH8m\n",
      "RT @AndrewGillum: If we want to win, we have to get out there and act like we want to win. Vote tonight y'all. This is it.\n",
      "RT @MNJeffJohnson: If you can read this tweet, you have an hour and a half to get out to vote! \n",
      "\n",
      "Bring your friends! \n",
      "#OverthrowTheStatusQu…\n",
      "RT @GranddadTheBand: Those of you who think your vote doesn’t matter: it fucking does. Stop being childish and go fucking vote.\n",
      "RT @NewsHour: \"Virginia is a blue state at this point,\" @thechrisbuskirk tells @JudyWoodruff, as Democrat Tim Kaine is projected to win re-…\n",
      "RT @DonaldJTrumpJr: Florida you need to get out and vote. Alll the gains you’ve made can disappear in an instant. \n",
      "\n",
      "Obviously the panhandle…\n",
      "Y'all always mad about something\n",
      "RT @PAYOLETTER: my man greg here!!!!!!! https://t.co/qwF9TdnbMG\n",
      "RT @ACLU: BREAKING: Arizona county elections officials turned away our client, a naturalized citizen, on the basis of citizenship.\n",
      "\n",
      "If they…\n",
      "RT @sarahkendzior: My husband is at our St Louis polling site and he says lines are longer than he's ever seen. They're so long, he's in a…\n",
      "RT @payoungdems: 🚨POLLS CLOSE IN 30 MINUTES🚨 \n",
      "\n",
      "If you are still waiting in line at your polling location by 8pm, be sure to STAY IN LINE. A…\n",
      "RT @JamesOKeefeIII: BREAKING @PVeritas_Action: Electioneering in NJ: \"Absolutely!\" Vote for Democrats; Menendez is \"Better\" Says Elections…\n",
      "RT @ClintSmithIII: this is what it’s all about https://t.co/cXnMpXKB3B\n",
      "RT @wearepoweruk: MUSIC FANS! 💗 VOTE for your favourite right now! \n",
      "\n",
      "The winner 🥇 will have 1 whole hour of music played, this Sunday at 7p…\n",
      "RT @btstwt_______: Most Engaged Twitter Accounts (1hr)\n",
      "\n",
      "1. @BTS_twt - 23.6M Engagements\n",
      "2. @bts_bighit - 10.6M Engagements\n",
      "\n",
      "It’s something…\n",
      "RT @ForOurFutureOH: Are you in line to vote? STAY in line until you're able to vote.\n",
      "\n",
      "Every single vote is going to matter. #StayInLine to…\n",
      "RT @ezraklein: My 5-point plan to improve American elections\n",
      "\n",
      "1. No one waits more than 30 minutes to vote.\n",
      "2. Election day is a holiday.\n",
      "3…\n",
      "RT @mmpadellan: Remember when Wile E. Coyote used to set traps for Road Runner, only to get blown up by his own stupid ACME bombs?\n",
      "\n",
      "That's…\n",
      "RT @RealCandaceO: THIS. VIDEO. IS. AMAZING!!!! \n",
      "\n",
      "Two young adults in line to vote wearing a #BLEXIT shirt, leave the reporter speechless.…\n",
      "RT @AFTunion: Georgia GOP candidate, and current Secretary of State, Brian Kemp was foiled by his own state's voter ID law when he tried to…\n",
      "RT @gondola__: Wrong election mama. Keep that energy tho. https://t.co/2EotkoHKnv\n"
     ]
    },
    {
     "name": "stdout",
     "output_type": "stream",
     "text": [
      "RT @SandraTXAS: #MAGA did you vote???\n",
      "\n",
      "If not, go now!! Vote RED vote for Trump agenda \n",
      "Economy booming! Jobs! \n",
      "Stronger military!\n",
      "Out of P…\n",
      "RT @DeplorableLola: #IVoted 🔻Republican 🔻 #Arizona don’t forget to vote.\n",
      "RT @JJprojectworld1: MAMA VOTE OPPORTUNITY!\n",
      "\n",
      "Post here about which JJ Project song impacted your life and why. Use the tags #GOT7 and #MAMA…\n",
      "RT @emmaladyrose: To voters still waiting at the polls: remember to STAY IN LINE. They have to let you vote #ElectionDay\n",
      "RT @RealSaavedra: WATCH: Texas Poll Worker Tells Undercover Reporter They've Allowed 'Tons' Of DACA Recipients To Vote https://t.co/3sJ3IK7…\n",
      "Me: hi would you like a democratic sample ballot?\n",
      "Man: no sorry I don’t vote for baby killers\n",
      "RT @AkilahObviously: Vote for the kids who would be old enough to vote Tuesday but got shot in fucking school because Republicans are addic…\n",
      "RT @floodedpatekkob: I swear to god a nigga joined my ps4 party and said “y’all niggas vote I heard its hoes at the polls”\n",
      "BREAKING NEWS: I’ve just been informed by a co-worker that the state of Nebraska doesn’t allow registered democrats… https://t.co/RFu4JViAXv\n",
      "RT @staceyabrams: .@repjohnlewis: “Get to the polls, stay in line, and cast your vote. It’s important. We can give hope to people all over…\n",
      "RT @MorriseyWV: I just convinced some folks in Jefferson County to vote for me right before the polls closed.  We gave it all— thank you We…\n",
      "RT @PaisaTweets_: Beto O'Rourke ran a 10k from the U.S. to Mexico as a symbol of unity!! Vote for this Man!!! https://t.co/5JSSrDRsi8\n",
      "RT @JamesOKeefeIII: BREAKING @PVeritas_Action: Electioneering in NJ: \"Absolutely!\" Vote for Democrats; Menendez is \"Better\" Says Elections…\n",
      "'Misfire'! MSNBC accidentally airs voting tallies of Fla. governor's race day before the vote https://t.co/2LryBVKe68\n",
      "RT @danielhowell: me, a non-american reading all these posts today who can’t vote but due to the usa’s global cultural and political influe…\n",
      "Which Guest Brought More Positivity in the #BigBoss12 House ??? \n",
      "\n",
      "RT 🔁 for #ShilpaShinde\n",
      "\n",
      "Like ❤ for #HinaKhan \n",
      "\n",
      "My… https://t.co/48SI4WjvF3\n",
      "House Republican Duncan Hunter and wife indicted https://t.co/2m39Oi6PAs via @WSJ\n",
      "RT @MMFlint: There is still time to vote! As long as u are in line by the time the polls close, you can vote! Go now! And to anyone who is…\n",
      "RT @marklutchman: My best friend of 8 years has always been a registered Democrat.\n",
      "\n",
      "Today, he voted Republican.\n",
      "\n",
      "Can we all give him a big…\n",
      "RT @dworet: My son was killed with an AR-15. My other son was wounded in the head, and witnessed 3 classmates killed. This is America now.…\n",
      "RT @RodStryker: Make Schumer Cry Again\n",
      "\n",
      "Make Communists Cry Again\n",
      "\n",
      "Make Obama Soetoro Cry Again\n",
      "\n",
      "Make Hillary Clinton Cry Again\n",
      "\n",
      "Make Fake…\n",
      "RT @zacfiasco: imagine thinking oprah knocked on your door to save you from poverty only to find out she’s telling you to vote. https://t.c…\n",
      "RT @Jali_Cat: Sharia Law approves of this type behavior against women. It’s disgusting. Absolutely vile. \n",
      "\n",
      "But you won’t hear @CNN @BrookeB…\n",
      "RT @kingjebo: Yearly reminder that Election Day should be a holiday and no one should have to decide between working for desperately needed…\n",
      "RT @gondola__: Wrong election mama. Keep that energy tho. https://t.co/2EotkoHKnv\n",
      "RT @AsiansForTrump: What are your Republican midterm predictions?\n",
      "RT @AkilahObviously: Vote for the kids who would be old enough to vote Tuesday but got shot in fucking school because Republicans are addic…\n",
      "RT @MMFlint: There is still time to vote! As long as u are in line by the time the polls close, you can vote! Go now! And to anyone who is…\n",
      "RT @JosephJFlynn1: When you vote today ... PLEASE take a moment to Remember the Fallen... they are still there everyday fighting for our fr…\n",
      "RT @RealJamesWoods: Because Democrats are traditionally stuffing the ballot box... https://t.co/FOIRYEaLRF\n",
      "RT @RonDeSantisFL: Polls close at 7PM! RETWEET if you voted for #DeSantisNunez https://t.co/S7GPAKh1bv https://t.co/PtCUypGGKf\n",
      "RT @CityLightsBooks: After you vote on #ElectionDay and cool off/drink heavily/work a full day, come to our store for a grand evening with…\n",
      "RT @LogoTV: 🗳💋This is what democracy lewks like. @trixiemattel went to vote in full drag. #VotingLegend https://t.co/ZKigut9kLp\n",
      "This is why college age people not voting is as big deal...because these people will always vote 🙃\n",
      "RT @Diddy: You still have time to vote. \n",
      "\n",
      "We came together last night in support of @AndrewGillum for Florida Governor. If you VOTE he will…\n",
      "RT @DonaldJTrumpJr: Florida you need to get out and vote. Alll the gains you’ve made can disappear in an instant. \n",
      "\n",
      "Obviously the panhandle…\n",
      "RT @KamJohnson_: Yall better watch out you know why he really here 👀 https://t.co/bUOeWfBNf1\n",
      "RT @Bone_Brake: IDA B WELLS\n",
      "Refused to give up her seat 71 years before Rosa Parks did.\n",
      "\n",
      "At age 33, she owned the first African-American Ne…\n",
      "RT @RealJamesWoods: But naturally @Twitter doesn’t show a SINGLE #Republican. Shameful bias.  https://t.co/EgFHsYaQO4\n",
      "RT @MattsIdeaShop: BREAKING: Fascist Dictator Accidentally Lets Everyone Vote. https://t.co/L4O4YoJH8m\n",
      "RT @DFBHarvard: Regardless of Tomorrow, I will never be a Progressive, a Liberal, a Democrat, a Socialist or a Social Democrat!\n",
      "\n",
      "I will nev…\n",
      "RT @eji_org: For 30 years, Mr. Hinton was stripped of all his rights while he sat on Alabama death row for a crime he didn't commit. Today,…\n",
      "RT @HBARONGRACIE: Make sure all you guys go out and vote today it’s your future 💙\n",
      "RT @TheAmerican22: @Rubin_Josh @denisemerrillct If you are in line by the deadline time, you get to vote. That's the law. People should cal…\n",
      "RT @TheRealJohnHCox: Back where we started - at the San Diego #DMV. People are ready...and voting for change! Vote today! #GOTV #HelpIsOnTh…\n",
      "RT @Mikel_Jollett: Power cords.\n",
      "\n",
      "The state of Georgia did not supply power cords for their ELECTRONIC voting machines at a polling site in…\n",
      "RT @CatsCommentary: The best thing we can do is fight at the local level - and that starts with your vote! #GoVote #CatBrooksForMayor https…\n",
      "RT @Rise_Soar_BFree: .@EricTrump If Republicans &amp; Trump supporters get out there today [and vote] – we win \n",
      "\n",
      "I’m also counting on the #Walk…\n",
      "I call bullshit. Still waiting for the  @JohnLeguizamo live action sequel. #Vote\n",
      "RT @kylegriffin1: A record number of Native American candidates are running in the midterms.\n",
      "\n",
      "There has never been a Native American woman…\n",
      "RT @lexi4prez: Floridians don’t forget to vote YES on amendment 4 today to restore voting rights to people convicted of felonies. This will…\n",
      "RT @HillaryClinton: Remember, Georgia: If you’re in line when the polls close at 7pm, you can still cast a ballot—so stay in line and vote!…\n",
      "!!!\n",
      "RT @RonDeSantisFL: Get out and vote, Panhandle! Polls close at 7PM. Let's secure Florida's future! https://t.co/WRnEKPjqaQ #ElectionDay\n",
      "RT @smokeydaQue1212: Us having this mentality for generations has been the reason behind that....stop that https://t.co/hG1hgfcNAI\n",
      "RT @FBdZ: If you care about your money, your guns, your rights DONT vote for Newson\n",
      "RT @realTRUMPERLAND: #ElectionNight #Midterm2018 #VotingMatters #JustVoted\n",
      "🇺🇸\n",
      "82 Year-Old-Woman Votes \n",
      "For 1st Time &amp; Then Dies\n",
      "🇺🇸\n",
      "“She wan…\n",
      "My supervisor let me off early to vote!!!\n",
      "RT @JamesPMorrison: The Democratic plan *is* Obamacare, you lying asshole. P.S. Happy Election Day! https://t.co/avvkbGWPTL\n",
      "RT @RepMaxineWaters: If you're told that your name is not present at the polling place, demand a provisional ballot. You cannot be denied t…\n",
      "RT @ABC: Prairie View A&amp;M University students walked out of class and marched to the polling station, chanting, \"Go vote!\"\n",
      "\n",
      "Students there…\n",
      "Yessss!\n",
      "RT @Caspar_Lee: VOTE 🇺🇸 VOTE 🇺🇸 VOTE 🇺🇸 VOTE 🇺🇸 VOTE 🇺🇸 VOTE 🇺🇸 VOTE 🇺🇸 VOTE 🇺🇸 VOTE 🇺🇸 VOTE 🇺🇸 VOTE 🇺🇸 VOTE 🇺🇸 VOTE 🇺🇸 VOTE 🇺🇸 VOTE 🇺🇸 VOT…\n",
      "@cryptonovice3 Still a terrible prerequisite.  Anyone from any country on work visa would get to vote, while elimin… https://t.co/4Q6ND8sooD\n",
      "RT @BayArea4Bernie: BREAKING: Once again defying the categorical laws of mathematics, Bernie Sanders has been elected to a third term in th…\n",
      "RT @RBReich: There's still time to vote! Here's an overview of when the polls close:\n",
      "https://t.co/lkxsmrX072\n",
      "I did not vote.  #LOL\n",
      "RT @bennyjohnson: I voted today in Washington D.C.\n",
      "I stood in the polling place for 30 minutes wearing this jacket &amp; waiving this flag.\n",
      "My…\n",
      "RT @dccc: Harley Rouda is forging a path to victory in one of the most Republican congressional district in one of the country’s most famed…\n",
      "RT @SherrodBrown: 🚨 This is IMPORTANT: 🚨 \n",
      "\n",
      "If you're in line by 7:30 pm, your vote will count. Stay in line! https://t.co/Z3QrsqAesB\n",
      "Just sent pizza via @PizzaToThePolls. Hang in there GA! We can vote Kemp and his despicable voter suppression tacti… https://t.co/DVgrAEnARG\n",
      "RT @RealCandaceO: Was first in line to vote today!\n",
      "\n",
      "STRAIGHT REPUBLICAN.\n",
      "\n",
      "While @realDonaldTrump and this wonderful economy is a great enou…\n",
      "RT @AndrewGillum: 🚨🚨🚨STAY IN LINE IF YOU ARE WAITING TO VOTE 🚨🚨🚨\n",
      "@Benigma2017 @matthewmerez @Progress_isGood I’m sorry that this bores you, but the problem is that this is reality.… https://t.co/LTV4tYYbUc\n",
      "RT @soccerlov3r14: If you are planning to vote tomorrow and need help understanding the propositions, my sister made these flash cards so c…\n",
      "RT @TVietor08: Brian Kemp couldn't suck harder at his job. https://t.co/r30B615hY5\n",
      "RT @RealTomPetrini: Popovich built a dynasty on the cultural foundation of selflessness and leadership, so it's no surprise he rejects Dona…\n",
      "@AlexAlvrez Do they vote over there?\n",
      "RT @TheRickyDavila: God doesn’t like ugly, crook. https://t.co/cM6PbP6hmu\n",
      "RT @haimerej_: Niggas called my fone like twice in the last hour no 🧢 https://t.co/Ixm0sycmRR\n",
      "I cast my Heisman ballot for #TuaTagovailoa! Click the player you think deserves the Heisman House vote. (📍@NissanUSA)\n",
      "RT @rihanna: GEORGIA: I’m sure you already know, but incase you’re still wondering... it’s all about @StaceyAbrams for Governor! Stacey is…\n",
      "RT @Nachoooo_Libre: Niños, don’t forget to do your priestly duties today and VOTE! 🇺🇸 #ElectionDay2018\n",
      "RT @kylegriffin1: \"I heard people were making racist robocalls in my name against Stacey Abrams, who I am one hundred percent for, in Georg…\n",
      "RT @AP_Politics: BREAKING: Republican Gus Bilirakis wins re-election to U.S. House in Florida's 12th congressional district. #APracecall at…\n"
     ]
    },
    {
     "name": "stdout",
     "output_type": "stream",
     "text": [
      "RT @mitchellvii: Florida Exit Poll: Black Vote for GOP Up 6% Points from 2016 -- DeSantis and Scott Winning 14% of Black Vote https://t.co/…\n",
      "RT @CollinRusty: I pray Republican candidates win across the board tonight, but if that doesn’t happen, I'll still love my country. \n",
      "\n",
      "I won…\n",
      "RT @iamdevinwagner: Don’t vote Democratic.\n",
      "Don’t vote Republican.\n",
      "\n",
      "Vote for the PERSON or issue that aligns with your morals and values. Do…\n",
      "RT @RealMarkKennedy: Stacy Abrams running for Governor in Georgia creates militia to confiscate your guns and bow to radical left ideas.\n",
      "\n",
      "V…\n",
      "RT @JoyAnnReid: So... this happened... #GAGOV https://t.co/p0OeXy3dfR\n",
      "RT @RealMAGASteve: BREAKING: A new Project Veritas Undercover Video Shows A Texas Election Official Admitting, “There’s tons of Non-Citizen…\n",
      "RT @drdesrochers: McGrath has around 60 percent of the vote in Fayette County with 59 percent of the county reporting. That's a 14,000 vote…\n",
      "RT @Brad_S_Brewer: Prediction for tonight? Bad news for Democrats. \n",
      "\n",
      "#Vote #ElectionDay #MAGA #KAG #VoteRepublican https://t.co/155OVmL1v8\n",
      "RT @krassenstein: BREAKING:  Democrat Senator Tim Kaine is now the projected winner in Virginia for US Senate.\n",
      "RT @Jeff__Benjamin: Wow I LOVE this! BTS' #ARMY is encouraging the fandom to get out and vote in the U.S. #2018MidtermElections by using @B…\n",
      "RT @DavidJHarrisJr: Rigged voting machines in Ohio! \n",
      "Pay attention voters! They’re trying to steal these elections!!! \n",
      "#vote #election #201…\n",
      "Improve---run to the polls and vote for Jeramey Anderson. @JerameyForMS\n",
      "RT @gondola__: Wrong election mama. Keep that energy tho. https://t.co/2EotkoHKnv\n",
      "RT @ferdalump: We’ve always taken Lane to the polls with us. Now that she’s 7 she’s becoming aware of what it’s all about (she’s even excit…\n",
      "RT @NathanHRubin: Long lines aren’t a sign of a healthy democracy. They’re a sign it’s too hard to vote. \n",
      "\n",
      "1) Election Day should be a holi…\n",
      "RT @RightSideSkirt: 🗣KENTUCKY DEPLORABLES AND WALKAWAYS - we need you to vote Red! Blue is trending ahead of us. Please go vote!! https://t…\n",
      "RT @JohnJamesMI: 🚨1 Hour🚨 \n",
      "Get in line BEFORE 8 PM to VOTE!🗳 Let’s Fly! 🇺🇸🦅#LetsFlyMI #MISen #TeamJohnJames #ElectionDay https://t.co/fxjkm…\n",
      "RT @KristenClarkeJD: 🚨BREAKING: Gwinnett County - Annistown Elementary School poll hours have been extended to 7:25 p.m. The county may not…\n",
      "RT @kingdaley__: Quack nigga https://t.co/Wr4p15QB6c\n",
      "#ElectionFraud #WWG1WGA @realDonaldTrump #CanYouSeeMeQ\n",
      "#QAnon\n",
      "RT @FoxNews: Republican Gov. McMaster projected to win in South Carolina; too early to call in hard-fought Georgia race https://t.co/rpqlpr…\n",
      "RT @robsmithonline: My skin is not white.\n",
      "My mother is a cancer survivor.\n",
      "My husband is an immigrant.\n",
      "I don’t have children.\n",
      "I am gay.\n",
      "\n",
      "#IV…\n",
      "RT @ACLU: BREAKING: Arizona county elections officials turned away our client, a naturalized citizen, on the basis of citizenship.\n",
      "\n",
      "If they…\n",
      "RT @rihanna: It’s ELECTION DAY America!!! The most important day for the rest of your lives! If you’re tired of complaining about the state…\n",
      "RT @_foreveronly: I'm so glad you went to vote! I love you @ddlovato, recover well. \n",
      "#demilovato #DemiIsBack #ddlovato #sober #prayfordemi…\n",
      "RT @ReneNow: ..Steve We know you're a money show and that your priority is money and can't understand why people would vote against #Trump…\n",
      "RT @TonyRobbins: Today is slated to be an election of HISTORIC importance and proportions. LET’S CREATE HISTORY together! 💪🗳🇺🇸 STEP UP, sho…\n",
      "RT @RodStryker: Illegals are voting Democrat right now in Texas!\n",
      "\n",
      "\"We got TONS of them\" says Election Official on undercover @PVeritas_Acti…\n",
      "RT @Craigs_VCR: Niggas went from \"I am not my ancestors\" to \"My ancestors died for our right to vote\" https://t.co/HqBalc88y3\n",
      "RT @real_farmacist: Prairie View A&amp;M University students in Texas:\n",
      "— Recently won a lawsuit allowing them to vote early and vote on campus.…\n",
      "RT @RonDeSantisFL: Get out and vote, Panhandle! Polls close at 7PM. Let's secure Florida's future! https://t.co/WRnEKPjqaQ #ElectionDay\n",
      "RT @Mikel_Jollett: THIS IS VOTER SUPPRESSION.\n",
      "\n",
      "And it's happening all over Georgia today because of Brian Kemp. https://t.co/18XfPild8O\n",
      "RT @man_brown_: hey californians!! worried you can’t vote cuz u didn’t register?? well don’t worry cuz california is one of 14 states that…\n",
      "RT @PalmerReport: #ElectionNight so far:\n",
      "\n",
      "- Democrats flip Guam \n",
      "- Tim Kaine wins\n",
      "- Bernie Sanders wins\n",
      "- Keep an eye on Amy McGrath race i…\n",
      "RT @realDonaldTrump: POLLING LOCATIONS: https://t.co/0pWiwCHGbh\n",
      "RT @PlaysTrumpCard: Congratulations to Republican Kentucky Congressman Brett Guthrie @RepGuthrie for his big win in #KY02! https://t.co/dA9…\n",
      "RT @mishacollins: 🚨REMINDERS🚨\n",
      "\n",
      "1. If you’re in line when the polls close, they have to let you vote—no matter what. \n",
      "2. Not registered? You…\n",
      "RT @realDonaldTrump: POLLING LOCATIONS: https://t.co/0pWiwCHGbh\n",
      "RT @Sukhanov_Dana1: So I voted today, how about you? Please do while you still can today, to make a difference to our country for once! 😄🙏🏻…\n",
      "Live: National midterms election results https://t.co/zYXZXoOY11\n",
      "RT @treeeenz: I just wanted to say that there was NO one, not one single person, that was my age or even around my age at the polls this mo…\n",
      "RT @Fuctupmind: James O'Keefe and Project Veritas managed to capture on video poll workers from Texas saying it's OK for illegals to vote.…\n",
      "RT @wearepoweruk: MUSIC FANS! 💗 VOTE for your favourite right now! \n",
      "\n",
      "The winner 🥇 will have 1 whole hour of music played, this Sunday at 7p…\n",
      "RT @PalmerReport: #ElectionNight so far:\n",
      "\n",
      "- Democrats flip Guam \n",
      "- Tim Kaine wins\n",
      "- Bernie Sanders wins\n",
      "- Keep an eye on Amy McGrath race i…\n",
      "@justanotherbobu We do have drop boxes here in Portland too. After living in California and going out to vote my en… https://t.co/NYQ5heXGOR\n",
      "RT @Comey: Voted. Now going out to knock on doors to urge everyone to vote.  Should be fun. https://t.co/xvofJXSPb9\n",
      "RT @JoyAnnReid: So... this happened... #GAGOV https://t.co/p0OeXy3dfR\n",
      "RT @HillaryClinton: Voting should be easy. If it isn't, call the Election Protection hotline at 866-OUR-VOTE with any questions. https://t.…\n",
      "RT @dbongino: Conspiracy theorist Rep. Adam Schiff Says ‘Renewing’ Russia Probe ‘Top Priority’ if Dems Win Midterms 👇🏻 https://t.co/7Qiy6YL…\n",
      "RT @waltshaub: I parked right outside my polling place, went in and voted right away with no line at all. This highlights the inequity in o…\n",
      "RT @ScottPresler: SOUTH CAROLINA: The race has been called for Republican @henrymcmaster.\n",
      "\n",
      "#ElectionNight #SCgov\n",
      "RT @EricHolder: 4.5 hour waits in African American districts in Georgia.  Good job Kemp.  No one is surprised. And this guy wants a promoti…\n",
      "RT @Culinary226: .@unitehere President @DTaylorUH and Bobbette are out in the field #GOTV. 🗳 For a ride to the polls, call: (702) 383-7917.…\n",
      "RT @DonaldJTrumpJr: Florida you need to get out and vote. Alll the gains you’ve made can disappear in an instant. \n",
      "\n",
      "Obviously the panhandle…\n",
      "RT @duunk: y’all ain’t wanna vote til ya friend was like “but they got free stickers” n u was like “oh shit .. that’s dope .. can i take a…\n",
      "RT @LauraLoomer: MUST WATCH: .@ChrisKingFL who is @AndrewGillum’s pick for Lt. Governor was asked if he &amp; Gillum would let the 14,000 illeg…\n",
      "RT @wearepoweruk: MUSIC FANS! 💗 VOTE for your favourite right now! \n",
      "\n",
      "The winner 🥇 will have 1 whole hour of music played, this Sunday at 7p…\n",
      "RT @RealSaavedra: WATCH: Texas Poll Worker Tells Undercover Reporter They've Allowed 'Tons' Of DACA Recipients To Vote https://t.co/3sJ3IK7…\n",
      "RT @AndrewGillum: If you’re in line at your polling location by 7pm, you’re allowed to vote! No matter how long the lines are, stay in line…\n",
      "RT @DogginTrump: BREAKING: A JUDGE HAS EXTENDED THE POLLS IN GWINNETT COUNTY, GEORGIA! \n",
      "\n",
      "Annistown Elementary School NOW OPEN UNTIL 9:25pm…\n",
      "deadass if i see the word vote one more time i’ll round house kick someone\n",
      "RT @cnni: Voters visit Susan B. Anthony's grave to leave \"I voted\" stickers, 146 years after she cast a history-changing vote https://t.co/…\n",
      "RT @ScottPresler: SOUTH CAROLINA: The race has been called for Republican @henrymcmaster.\n",
      "\n",
      "#ElectionNight #SCgov\n",
      "@JonathanMoak @beevies123 @realDonaldTrump How could you possibly support the lying cheating dems?  They don't give… https://t.co/2I0qMDsYLV\n",
      "RT @Blexits: Casted a straight republican ballot for the first time ever #Blexit is happening real time on Election day  ❤🇺🇸✊🏾 https://t.co…\n",
      "RT @Sllick_E: Y’all Boyz better vote.... it’s some hoez at the polls\n",
      "RT @JamesOKeefeIII: BREAKING @PVeritas_Action: Electioneering in NJ: \"Absolutely!\" Vote for Democrats; Menendez is \"Better\" Says Elections…\n",
      "RT @trumptrain1111: Wow!\n",
      "\n",
      "Heavily Republican AZ District Turns Voters Away - Takes Their Names and Numbers and Says \"We'll Get Back to You\"…\n",
      "RT @krassenstein: BREAKING: In the Tossup race for House in Kentucky's 6th District, Democrat Amy McGrath is up by 6 points on Republican A…\n",
      "RT @FoxNews: Republican Gov. McMaster projected to win in South Carolina; too early to call in hard-fought Georgia race https://t.co/rpqlpr…\n",
      "#vote\n",
      "RT @MattsIdeaShop: BREAKING: Fascist Dictator Accidentally Lets Everyone Vote. https://t.co/L4O4YoJH8m\n",
      "RT @am_erica__: Y’all @NevSchulman at PVAMU and he said go vote‼️ https://t.co/zhsjW3Z5hq\n",
      "RT @RBReich: The polls are about to close in many parts of the East Coast, including Florida, Georgia, and Virginia. If you're in line to v…\n",
      "RT @ElectBergmann: Working hard today, along with many of my team members and supporters. If you see us, please stop and say hello. \n",
      "\n",
      "There…\n",
      "RT @gondola__: Wrong election mama. Keep that energy tho. https://t.co/2EotkoHKnv\n",
      "BernieSanders: RT jessforcongress: If you are in line waiting to vote, STAY IN LINE!\n",
      "\n",
      "Don't be discouraged! As long… https://t.co/ze5u1oS7gv\n",
      "RT @ezraklein: My 5-point plan to improve American elections\n",
      "\n",
      "1. No one waits more than 30 minutes to vote.\n",
      "2. Election day is a holiday.\n",
      "3…\n",
      "RT @kylegriffin1: A nonprofit group called Pizza to the Polls is delivering hundreds of pizzas to voters stuck in long lines waiting to vot…\n",
      "RT @I_am_not_E: @Bipartisanism Vote as if:\n",
      "You're an American citizen\n",
      "You wish to see your Country prosper\n",
      "You wish to see your fellow Amer…\n",
      "RT @krassenstein: BREAKING: In the Tossup race for House in Kentucky's 6th District, Democrat Amy McGrath is up by 6 points on Republican A…\n",
      "RT @ABCPolitics: About 70 young Native Americans marched to a polling place on a reservation near Belcourt chanting \"North Dakota — you can…\n",
      "RT @adamcbest: GOP Senate candidate and Secretary of State Brian Kemp has made sure Georgia's voting process is so shitty that when he trie…\n"
     ]
    },
    {
     "name": "stdout",
     "output_type": "stream",
     "text": [
      "RT @WSJPolitics: AP Votecast Survey:\n",
      "Women voted Democrat by a 56%-38% margin.\n",
      "Men voted Republican by a 49%-46% margin\n",
      "https://t.co/68G0xP…\n",
      "RT @RealSaavedra: WATCH: Texas Poll Worker Tells Undercover Reporter They've Allowed 'Tons' Of DACA Recipients To Vote https://t.co/3sJ3IK7…\n",
      "May God be with us &amp; you are elected. Communism ain’t Fla. style.\n",
      "RT @AndrewGillum: Everything is at stake here. Stay in line, Florida. VOTE. https://t.co/4ejgDh5QIq\n",
      "RT @HuffPost: John McCain's former chief of staff is calling on Americans to vote Democrat in the midterm elections.\n",
      "\n",
      "\"The bigger the rebuk…\n",
      "RT @AMarch4OurLives: WALK OUT TO VOTE!! https://t.co/vymSXcNsMk\n",
      "RT @Hbobrow1Hbobrow: I’m a Canadian. \n",
      "I can’t vote in your election. \n",
      "Can I ask everyone on the fence to think about this. \n",
      "\n",
      "We, Canadians…\n",
      "@cnnbrk Despite having PTSD from 2016, I will attempt to watch returns 🍿\n",
      "\n",
      "#Midterms2018⁠ ⁠⁠#BeAVoter⁠ ⁠⁠#VoteToday… https://t.co/Otr6b8F1px\n",
      "RT @tinyhandspb: #Florida #IWillVote @laurenbaer #FL18 #WaveCast #WaveCastFL https://t.co/F2qK8Xay6O\n",
      "RT @Franklin_Graham: If you live on the West Coast—CA, OR, WA—I was there for the #DecisionAmerica Tour this summer. Go #VOTE! Your vote ma…\n",
      "RT @billyeichner: STAY IN LINE. STAY IN LINE NO MATTER WHAT. If the line is long, it’s raining, you’re bored, you’re tired, please hear me…\n",
      "RT @mecasullo: Las propuestas de Ezra Klein para mejorar la votación de EEU. \n",
      "1. Espera de no más de 30 minutos. \n",
      "2. Se vote en feriado. \n",
      "3…\n",
      "When I find myself in times of trouble\n",
      "Father Rather comes to me\n",
      "Speaking words of wisdom,\n",
      "RT @BetoORourke: If you haven’t voted, I need you to get to the polls. This one is on us. The people of Texas. The people of the future are…\n",
      "Blows my mind that people in the 60s were murdered for even trying to vote. Very exciting to see older Latinx gener… https://t.co/RcDdVR1iPI\n",
      "RT @realDonaldTrump: ....Lake Okeechobee and all of the hurricane money were a passion for Rick Scott, who called endlessly on behalf of th…\n",
      "RT @NelsonForSenate: If you're in line waiting to vote at 7PM, please stay in line. You can still vote, but only if you stay in line! #Elec…\n",
      "RT @ronlieber: Parenting today? If someone is telling you that you can't come into the polling place with a stroller or kids (or a wheelcha…\n",
      "@jscotteverett @tedcruz Vote Beto\n",
      "RT @crimsonfaith88: 🇺🇸Yes! @FBI clear @GenFlynn InProbe Linking Him To \n",
      "\n",
      "Russia! Thank You For You Service Sir! Every American \n",
      "\n",
      "Owes You T…\n",
      "RT @_RNewberry: VOTE FOR STACEY ABRAMS ‼️\n",
      "VOTE FOR STACEY ABRAMS ‼️\n",
      "VOTE FOR STACEY ABRAMS ‼️\n",
      "VOTE FOR STACEY ABRAMS ‼️\n",
      "VOTE FOR STACEY ABR…\n",
      "RT @jonathanlemelin: Did you know your vote still counts even if you don’t post a selfie with the I voted sticker\n",
      "RT @MomsRising: #California polls close at 8pm PT.\n",
      "REMEMBER: If you are in line by 8pm you are allowed to vote (no matter how long the line…\n",
      "RT @Brandienyc35: @kimguilfoyle Deerfield beach Florida would not allow my military active duty husband to vote he was told its a glitch ??…\n",
      "RT @RepMaxineWaters: If you're told that your name is not present at the polling place, demand a provisional ballot. You cannot be denied t…\n",
      "RT @phillfoss1: Arizona! https://t.co/P4dazOVyny\n",
      "RT @MattxRed: My grandma has been struggling with her health this year — she wheeled herself down to the polls because she doesn’t want her…\n",
      "RT @misstp90: I took this pic because everybody else took a “look at my sticker” pic. Seriously though I Voted 👍🏽✅ did you? #itmatters #vot…\n",
      "RT @ScottPresler: SOUTH CAROLINA: The race has been called for Republican @henrymcmaster.\n",
      "\n",
      "#ElectionNight #SCgov\n",
      "RT @ItsHennessyy: Y’all be STANDING in them lines at the clubs but y’all scared to stand in line to VOTE?    pathetic\n",
      "RT @MonicaCrowley: -&gt; https://t.co/mDPZ0PUVTT\n",
      "RT @tyleroakley: well, you heard her!!\n",
      "let's go texas!!\n",
      "vote @BetoORourke!!\n",
      "time to make @beyonce proud!! https://t.co/R3maeH8W4e\n",
      "RT @kylegriffin1: Pacific Daily News: Former Democratic lawmaker Lou Leon Guerrero will become Guam's first female governor, winning more t…\n",
      "RT @DaddyDaddymac: RESISTERS!! PASS THIS ON!!\n",
      "\n",
      "They’re trying to fuck us out of our vote. broken machines, running out of paper ballots, ch…\n",
      "RT @nytimes: Polls just closed in parts of Indiana and Kentucky.\n",
      "\n",
      "Keep an eye on Kentucky's 6th Congressional District, where Amy McGrath,…\n",
      "RT @Stop_Trump20: Voter suppression at it's finest!!\n",
      "\n",
      "Brian Kemp you are a disgrace!! There is no place for people like you in politics!\n",
      "\n",
      "G…\n",
      "RT @LMKNTH: OMFG MY HEALTHY DEMOCRAT QUEEN! https://t.co/YepKeV9vFK\n",
      "RT @realDonaldTrFan: EARLY RETURNS are in! I'm doing GRATE! In Vermont, in Jackson Elementary School's 1st grade class, I WON with 8 votes!…\n",
      "BernieSanders: RT AndrewGillum: Everything is at stake here. Stay in line, Florida. VOTE. https://t.co/k4ozj3ZuQW\n",
      "@KenidraRWoods_ I would vote for you\n",
      "@joncoopertweets This is freedom as defined by Republicans . Vote them out .\n",
      "RT @kyrstensinema: Arizona, there’s still time to vote! Polls are open until 7:00 PM. \n",
      "\n",
      "Questions about voting? Call the voter protection h…\n",
      "RT @PamelaUnplugged: Unlike you, we feel it’s important to remember every second of everyday the four Americans you deserted in Benghazi 70…\n",
      "RT @AndrewGillum: 🚨🚨🚨STAY IN LINE IF YOU ARE WAITING TO VOTE 🚨🚨🚨\n",
      "RT @Savedangel61: #VoteRedToSaveAmerica Remember, Georgia: If you’re in line when the polls close at 7pm, you can still cast a ballot—so st…\n",
      "I'm having 2012 flashbacks I am so incredibly proud of this team 😍😍😍\n",
      "RT @common: It's #ElectionEve! What time are you voting tomorrow? Find out where to go at https://t.co/jj89br8iP7! https://t.co/4PNmGjhw9d\n",
      "Everyone: get out and vote!\n",
      "Also Everyone: stupid lines making me wait! It’s a scam!\n",
      "#Vote2018 #VotingMatters #ihateeveryone\n",
      "RT @MidtownComics: TODAY IS THE DAY! Go out and vote! #ElectionDay https://t.co/AUzKleNqEX\n",
      "RT @Dwayne37: If you live in NYC please remember to flip your ballot over and vote YES on proposition 83 which requires governor cuomo to s…\n",
      "RT @GovMikeHuckabee: I hope my candidates win, but if not, I'll still cherish my right to vote. I won't scream at ppl in restaurants, scrat…\n",
      "RT @GovMikeHuckabee: I hope my candidates win, but if not, I'll still cherish my right to vote. I won't scream at ppl in restaurants, scrat…\n",
      "RT @IronStache: Polls close in Wisconsin tonight at 8pm. If you're in line by 8pm, you can vote.\n",
      "\n",
      "If you have any issues while voting, call…\n",
      "RT @realDonaldTrump: Thank you Ohio! When you enter the voting booth tomorrow you will be making a simple choice. A vote for Republicans is…\n",
      "RT @HillaryClinton: Remember, Georgia: If you’re in line when the polls close at 7pm, you can still cast a ballot—so stay in line and vote!…\n",
      "RT @AndrewGillum: VOTE! VOTE! VOTE! This is our time. Let's do this, let's #BringItHome\n",
      "hi pennsylvania vote for tom wolf if u actually give a shit about important issues such as women’s reproductive rig… https://t.co/tXsNohHcUD\n",
      "RT @ChrisWhartonKi1: Everyone in the US, don’t forget to VOTE!!! https://t.co/Qpk2tI1iJr\n",
      "Do Jehovah Witnesses vote? Or is that against their religion?\n",
      "RT @samiewamiee: These are the people that vote when you don’t. https://t.co/hTXwIdzvXI\n",
      "RT @_jarelyivette: Go vote! https://t.co/eO4K2h8TZS\n",
      "RT @GOP: .@VP: President Trump and I urge the American people to re-elect Republican majorities to Congress to deliver more results. Imagin…\n",
      "RT @aa_iturralde: LAST HOUR MICHIGAN!! GO TO THE POLLS!! GO GET PEOPLE TO VOTE!! PLEASE PLEASE PLEASE GO VOTE!!!!! If you get to the polls…\n",
      "RT @RealJamesWoods: “Remember when you go to the polls Tuesday that in the wake of Kavanaugh’s confirmation vote, Ariel Dumas, writer for ‘…\n",
      "RT @CabellopicsBR: Vote! https://t.co/0qcP5ggerN\n",
      "RT @EricHolder: 4.5 hour waits in African American districts in Georgia.  Good job Kemp.  No one is surprised. And this guy wants a promoti…\n",
      "RT @dronecoma: Bone Machine is the best pixies song and Plz Vote as Left as u can today xO Sm\n",
      "RT @databyler: Sometimes I forget that that guy is still around https://t.co/9xZWWJ2ieZ\n",
      "RT @ABCWorldNews: \"It's just good to be able to cast a vote,\" Rep. John Lewis says at his polling station in Atlanta, GA.\n",
      "\n",
      "\"I feel deeply m…\n",
      "RT @ezraklein: My 5-point plan to improve American elections\n",
      "\n",
      "1. No one waits more than 30 minutes to vote.\n",
      "2. Election day is a holiday.\n",
      "3…\n",
      "RT @JoeHeim: My wife reporting from the local community center on the huge number of millennials waiting to vote: “It looks like a line for…\n",
      "RT @findtruthQ: More illegal campaigning by democrats. This must stop!!! https://t.co/afjbU28XAt\n"
     ]
    }
   ],
   "source": [
    "# Now, we're ready to start streaming!  We'll look for recent tweets which use the word \"data\".\n",
    "# You can pause the display of tweets by interrupting the Python kernel (use the menu bar at the top)\n",
    "# my_stream.filter(track=['data'], is_async=True)\n",
    "query = ['vote', 'midterms', 'RockTheVote', 'democrat', 'republican']\n",
    "my_stream.filter(track=query, is_async=True)"
   ]
  },
  {
   "cell_type": "code",
   "execution_count": 71,
   "metadata": {
    "scrolled": true
   },
   "outputs": [],
   "source": [
    "# Even if you pause the display of tweets, your stream is still connected to Twitter!\n",
    "# To disconnect (for example, if you want to change which words you are searching for), \n",
    "# use the disconnect() function.\n",
    "\n",
    "my_stream.disconnect()"
   ]
  },
  {
   "cell_type": "markdown",
   "metadata": {},
   "source": [
    "---\n",
    "\n",
    "## Suggestions for skills to learn\n",
    "\n",
    "* Collect 1000 tweets matching a search, or all available in the current time window, whichever comes first.  That 1000 was arbitrary\n",
    "* Extract just the fields you are most interested in from a search, and create a Pandas data frame\n",
    "* Follow the graph of followers from a specific Twitter user"
   ]
  },
  {
   "cell_type": "markdown",
   "metadata": {},
   "source": [
    "---\n",
    "\n",
    "## Useful resources and links\n",
    "\n",
    "* [the structure of the Status object of Tweepy](https://gist.github.com/dev-techmoe/ef676cdd03ac47ac503e856282077bf2)\n",
    "* [Tweet Data Dictionary](https://developer.twitter.com/en/docs/tweets/data-dictionary/overview/tweet-object)\n",
    "* [Standard Operators](https://developer.twitter.com/en/docs/tweets/search/guides/standard-operators) -- premium operators cost money.\n",
    "* [Twitter operators by product](https://developer.twitter.com/en/docs/tweets/rules-and-filtering/overview/operators-by-product) -- by product they mean *paid access level*\n",
    "* [How to use Twitter’s Search REST API most effectively](https://www.karambelkar.info/2015/01/how-to-use-twitters-search-rest-api-most-effectively./)\n",
    "* [Collecting Tweets with Tweepy](http://www.dealingdata.net/2016/07/23/PoGo-Series-Tweepy/)\n"
   ]
  }
 ],
 "metadata": {
  "kernelspec": {
   "display_name": "Py3_venv",
   "language": "python",
   "name": "py3_venv"
  },
  "language_info": {
   "codemirror_mode": {
    "name": "ipython",
    "version": 3
   },
   "file_extension": ".py",
   "mimetype": "text/x-python",
   "name": "python",
   "nbconvert_exporter": "python",
   "pygments_lexer": "ipython3",
   "version": "3.7.0"
  }
 },
 "nbformat": 4,
 "nbformat_minor": 1
}
