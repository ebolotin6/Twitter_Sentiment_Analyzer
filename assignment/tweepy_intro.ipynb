{
 "cells": [
  {
   "cell_type": "markdown",
   "metadata": {},
   "source": [
    "<img src=\"https://datasciencedegree.wisconsin.edu/wp-content/themes/data-gulp/images/logo.svg\" width=\"300\">\n"
   ]
  },
  {
   "cell_type": "markdown",
   "metadata": {},
   "source": [
    "# Lesson 13 Activity -- Using ```tweepy``` for Data Mining"
   ]
  },
  {
   "cell_type": "markdown",
   "metadata": {},
   "source": [
    "This is an introduction to data collection from <a href=\"http://www.twitter.com/\">Twitter</a> using the [`tweepy`](http://www.tweepy.org/) package."
   ]
  },
  {
   "cell_type": "markdown",
   "metadata": {},
   "source": [
    "---\n",
    "\n",
    "## Getting set up -- things you do about once"
   ]
  },
  {
   "cell_type": "markdown",
   "metadata": {},
   "source": [
    "### Install Tweepy\n",
    "\n",
    "You must install the tweepy package from either Anaconda or the terminal on your computer before using it!"
   ]
  },
  {
   "cell_type": "markdown",
   "metadata": {},
   "source": [
    "### Make a twitter account\n",
    "\n",
    "You'll need to set up an app at <a href=\"https://apps.twitter.com/\">apps.twitter.com</a>."
   ]
  },
  {
   "cell_type": "markdown",
   "metadata": {},
   "source": [
    "### Save your credentials to an external file\n",
    "\n",
    "Make a plain text file on your computer called `twitter_credentials.py`, and put it anywhere but this directory.  I put mine in my home directory for my user.  It will look something like this:\n",
    "\n",
    "    con_key = 'your consumer key goes here'\n",
    "    con_secret = 'your consumer secret goes here'\n",
    "    acc_token = 'your access token goes here'\n",
    "    acc_secret = 'your access secret goes here'\n",
    "    \n",
    "* Save your consumer key, consumer secret, access token, and access secret there.\n",
    "* Don't share these secrets with others!  \n",
    "* It's also possible to generate access tokens and secrets from within an app, but now's not the right time for this."
   ]
  },
  {
   "cell_type": "markdown",
   "metadata": {},
   "source": [
    "---\n",
    "\n",
    "## Preliminaries to using tweepy -- things you do once per session\n",
    "\n",
    "You have to do these things about once per session.  If you close your notebook, or restart the kernel, then you have to do these things before you can again use the Tweepy interface to the Twitter API."
   ]
  },
  {
   "cell_type": "markdown",
   "metadata": {},
   "source": [
    "#### 1. Gain access to the Tweepy library\n",
    "\n",
    "As you would any other Python library, `import`."
   ]
  },
  {
   "cell_type": "code",
   "execution_count": 1,
   "metadata": {},
   "outputs": [
    {
     "ename": "ModuleNotFoundError",
     "evalue": "No module named 'tweepy'",
     "output_type": "error",
     "traceback": [
      "\u001b[0;31m---------------------------------------------------------------------------\u001b[0m",
      "\u001b[0;31mModuleNotFoundError\u001b[0m                       Traceback (most recent call last)",
      "\u001b[0;32m<ipython-input-1-f5e4f2180e08>\u001b[0m in \u001b[0;36m<module>\u001b[0;34m()\u001b[0m\n\u001b[0;32m----> 1\u001b[0;31m \u001b[0;32mimport\u001b[0m \u001b[0mtweepy\u001b[0m\u001b[0;34m\u001b[0m\u001b[0m\n\u001b[0m",
      "\u001b[0;31mModuleNotFoundError\u001b[0m: No module named 'tweepy'"
     ]
    }
   ],
   "source": [
    "import tweepy"
   ]
  },
  {
   "cell_type": "markdown",
   "metadata": {},
   "source": [
    "#### 2. Load your credentials from the external file\n",
    "\n",
    "Invoke a python plain text source file located somewhere else on your computer."
   ]
  },
  {
   "cell_type": "code",
   "execution_count": 2,
   "metadata": {},
   "outputs": [],
   "source": [
    "consumer_key = 'Mzw4QX0V7aogMB7xSfflJJBXS'\n",
    "consumer_secret = 'NhKzSqRP8jlWqdY5LzcxM1tvNgtCJPsyRDifPg3twhk3KWPxKq'\n",
    "access_token = '1009600220986916864-SaVmz9QNKC59hXexHcr0lkbiNtMe3u'\n",
    "access_secret = 'eUdvz4PLt1jzzKYAmLLh3tBeJEXrtuoTmvsxst3hwWJBl'\n",
    "# this cell will evaluate silently 🙊, and not print anything.  \n",
    "# This is desired, because a person with your keys can act as you on Twitter in literally every way 😟"
   ]
  },
  {
   "cell_type": "markdown",
   "metadata": {},
   "source": [
    "🔐 If you need to check whether the four variables, such as `con_key` have the correct value, insert a cell and print the value, then delete the cell.  Keep your credentials secret and safe!!!  "
   ]
  },
  {
   "cell_type": "markdown",
   "metadata": {},
   "source": [
    "#### 3. Make an `API` object\n",
    "\n",
    "The `tweepy.API` object handles construction of the Twitter API calls for you.  It's a convenience layer, but it's really dang convenient!"
   ]
  },
  {
   "cell_type": "code",
   "execution_count": 3,
   "metadata": {},
   "outputs": [],
   "source": [
    "#Use tweepy.OAuthHandler to create an authentication using the given key and secret\n",
    "# auth = tweepy.OAuthHandler(consumer_key=consumer_key, consumer_secret=consumer_secret)\n",
    "auth = tweepy.AppAuthHandler(consumer_key, consumer_secret)\n",
    "# auth.set_access_token(access_token, access_secret)\n",
    "\n",
    "#Connect to the Twitter API using the authentication\n",
    "# api = tweepy.API(auth)\n",
    "api = tweepy.API(auth, wait_on_rate_limit=True, wait_on_rate_limit_notify=True)"
   ]
  },
  {
   "cell_type": "markdown",
   "metadata": {},
   "source": [
    "--- \n",
    "\n",
    "## Using the API\n",
    "\n",
    "Twitter has two versions of its API:\n",
    "* The [REST](https://en.wikipedia.org/wiki/Representational_state_transfer) [API](https://en.wikipedia.org/wiki/Application_programming_interface) allows you to _pull_ information from Twitter, or _push_ information back to Twitter.  For example,  \n",
    "  💡 if I wanted to have a Python script that ran as a CRON job to automatically tweet for me under certain conditions, I would use the REST API.\n",
    "* The Streaming API allows us to monitor Twitter in real time, grabbing tweets as they are made.  For example,  \n",
    "  💡 if I wanted to make a little device powered by a Raspberry Pi that showed interesting tweets in real time on a tiny screen by my desk, I would use the streaming API."
   ]
  },
  {
   "cell_type": "markdown",
   "metadata": {},
   "source": [
    "### Method 1. The REST API\n",
    "\n",
    "The REST API allows you to _pull_ information from Twitter, or _push_ information back to Twitter.  We'll use the REST API to run a specific search.  You could also use the REST API to make automatic tweets on Twitter, or get information about specific users."
   ]
  },
  {
   "cell_type": "code",
   "execution_count": 8,
   "metadata": {},
   "outputs": [],
   "source": [
    "#Use the REST API for a static search\n",
    "#Our example finds recent tweets using the hashtag #datascience\n",
    "\n",
    "tweet_list = api.search(q='#%23datascience') #%23 is used to specify '#'"
   ]
  },
  {
   "cell_type": "markdown",
   "metadata": {},
   "source": [
    "See [twitter's search documentation](https://dev.twitter.com/rest/public/search) for examples of query operators.  Pay attention to how to URL encode your query.  [This w3schools page](https://www.w3schools.com/tags/ref_urlencode.asp) has information on what `%23` and other encodings for URL's mean."
   ]
  },
  {
   "cell_type": "markdown",
   "metadata": {},
   "source": [
    "We retrieve a SearchResult object for each tweet, full of data such as the language, the identity of the poster, etc."
   ]
  },
  {
   "cell_type": "code",
   "execution_count": 10,
   "metadata": {},
   "outputs": [
    {
     "data": {
      "text/plain": [
       "{'created_at': 'Thu Nov 08 02:34:51 +0000 2018',\n",
       " 'id': 1060359966505222145,\n",
       " 'id_str': '1060359966505222145',\n",
       " 'text': 'Nehi Duarte #Kudos I just wanted to let you know how much you mean to the team #TeamPlayer #aflacdatascience #sales #datascience #TrustFall',\n",
       " 'truncated': False,\n",
       " 'entities': {'hashtags': [{'text': 'Kudos', 'indices': [12, 18]},\n",
       "   {'text': 'TeamPlayer', 'indices': [79, 90]},\n",
       "   {'text': 'aflacdatascience', 'indices': [91, 108]},\n",
       "   {'text': 'sales', 'indices': [109, 115]},\n",
       "   {'text': 'datascience', 'indices': [116, 128]},\n",
       "   {'text': 'TrustFall', 'indices': [129, 139]}],\n",
       "  'symbols': [],\n",
       "  'user_mentions': [],\n",
       "  'urls': []},\n",
       " 'metadata': {'iso_language_code': 'en', 'result_type': 'recent'},\n",
       " 'source': '<a href=\"http://www.linkedin.com/\" rel=\"nofollow\">LinkedIn</a>',\n",
       " 'in_reply_to_status_id': None,\n",
       " 'in_reply_to_status_id_str': None,\n",
       " 'in_reply_to_user_id': None,\n",
       " 'in_reply_to_user_id_str': None,\n",
       " 'in_reply_to_screen_name': None,\n",
       " 'user': {'id': 14057479,\n",
       "  'id_str': '14057479',\n",
       "  'name': 'Jason Foley',\n",
       "  'screen_name': 'JAYFO',\n",
       "  'location': 'Columbus, GA',\n",
       "  'description': 'Analytics | Data Science | Programming | Drumming | Photography | Maker',\n",
       "  'url': None,\n",
       "  'entities': {'description': {'urls': []}},\n",
       "  'protected': False,\n",
       "  'followers_count': 136,\n",
       "  'friends_count': 143,\n",
       "  'listed_count': 2,\n",
       "  'created_at': 'Thu Feb 28 22:07:30 +0000 2008',\n",
       "  'favourites_count': 21,\n",
       "  'utc_offset': None,\n",
       "  'time_zone': None,\n",
       "  'geo_enabled': True,\n",
       "  'verified': False,\n",
       "  'statuses_count': 338,\n",
       "  'lang': 'en',\n",
       "  'contributors_enabled': False,\n",
       "  'is_translator': False,\n",
       "  'is_translation_enabled': False,\n",
       "  'profile_background_color': '000000',\n",
       "  'profile_background_image_url': 'http://abs.twimg.com/images/themes/theme15/bg.png',\n",
       "  'profile_background_image_url_https': 'https://abs.twimg.com/images/themes/theme15/bg.png',\n",
       "  'profile_background_tile': False,\n",
       "  'profile_image_url': 'http://pbs.twimg.com/profile_images/520671253171290112/CxMVWC7P_normal.jpeg',\n",
       "  'profile_image_url_https': 'https://pbs.twimg.com/profile_images/520671253171290112/CxMVWC7P_normal.jpeg',\n",
       "  'profile_banner_url': 'https://pbs.twimg.com/profile_banners/14057479/1478275207',\n",
       "  'profile_link_color': 'ABB8C2',\n",
       "  'profile_sidebar_border_color': '000000',\n",
       "  'profile_sidebar_fill_color': '000000',\n",
       "  'profile_text_color': '000000',\n",
       "  'profile_use_background_image': False,\n",
       "  'has_extended_profile': True,\n",
       "  'default_profile': False,\n",
       "  'default_profile_image': False,\n",
       "  'following': None,\n",
       "  'follow_request_sent': None,\n",
       "  'notifications': None,\n",
       "  'translator_type': 'none'},\n",
       " 'geo': None,\n",
       " 'coordinates': None,\n",
       " 'place': None,\n",
       " 'contributors': None,\n",
       " 'is_quote_status': False,\n",
       " 'retweet_count': 0,\n",
       " 'favorite_count': 0,\n",
       " 'favorited': False,\n",
       " 'retweeted': False,\n",
       " 'lang': 'en'}"
      ]
     },
     "execution_count": 10,
     "metadata": {},
     "output_type": "execute_result"
    }
   ],
   "source": [
    "tweet_list[0]._json"
   ]
  },
  {
   "cell_type": "code",
   "execution_count": null,
   "metadata": {},
   "outputs": [],
   "source": [
    "#We can use the dir command to view a list of the attributes of each tweet\n",
    "dir(tweet_list[0])"
   ]
  },
  {
   "cell_type": "code",
   "execution_count": null,
   "metadata": {},
   "outputs": [],
   "source": [
    "#Let's display the text of each tweet we found.\n",
    "[tweet.text for tweet in tweet_list]"
   ]
  },
  {
   "cell_type": "markdown",
   "metadata": {},
   "source": [
    "By default, the REST API returns 15 tweets.  We can get up to 100 by using the argument \"count\"."
   ]
  },
  {
   "cell_type": "code",
   "execution_count": null,
   "metadata": {},
   "outputs": [],
   "source": [
    "tweet_list = api.search(q='#%23datascience', count = 100)\n",
    "len(tweet_list)"
   ]
  },
  {
   "cell_type": "markdown",
   "metadata": {},
   "source": [
    "If we want more than 100 tweets, we can use a *while* loop.  The max_id argument lets us collect tweets that are older than a particular tweet index (in this case, the oldest tweet we've seen so far).\n",
    "\n",
    "The `try/except/else` structure lets us fail gracefully in case the API search returns an error (e.g., if we run up against Twitter's rate limits)."
   ]
  },
  {
   "cell_type": "code",
   "execution_count": 9,
   "metadata": {},
   "outputs": [
    {
     "data": {
      "text/plain": [
       "296"
      ]
     },
     "execution_count": 9,
     "metadata": {},
     "output_type": "execute_result"
    }
   ],
   "source": [
    "num_needed = 200\n",
    "tweet_list = []\n",
    "last_id = -1 # id of last tweet seen\n",
    "while len(tweet_list) < num_needed:\n",
    "    try:\n",
    "        new_tweets = api.search(q = '#%23datascience', count = 100, max_id = str(last_id - 1))\n",
    "    except tweepy.TweepError as e:\n",
    "        print(\"Error\", e)\n",
    "        break\n",
    "    else:\n",
    "        if not new_tweets:\n",
    "            print(\"Could not find any more tweets!\")\n",
    "            break\n",
    "        tweet_list.extend(new_tweets)\n",
    "        last_id = new_tweets[-1].id\n",
    "\n",
    "len(tweet_list)"
   ]
  },
  {
   "cell_type": "markdown",
   "metadata": {},
   "source": [
    "Note that the free REST API restricts the number of tweets you can retrieve, and the dates: you may not be able to retrieve tweets that are more than a week old.  Pay attention to this restriction as you approach your final project topic!"
   ]
  },
  {
   "cell_type": "markdown",
   "metadata": {},
   "source": [
    "## Method 2. The Streaming API\n",
    "\n",
    "The Streaming API allows us to monitor Twitter in real time, grabbing tweets as they are made."
   ]
  },
  {
   "cell_type": "markdown",
   "metadata": {},
   "source": [
    "The ```tweepy``` package includes a class called ```StreamListener``` which monitors Twitter for us.  However, by default StreamListener does nothing with the tweets it collects.\n",
    "\n",
    "In this demonstration, we'll modify ```StreamListener``` to make a class that prints each tweet we're interested in to the screen.  Later, you may wish to create your own class which saves information from tweets to a file."
   ]
  },
  {
   "cell_type": "code",
   "execution_count": 12,
   "metadata": {},
   "outputs": [],
   "source": [
    "#We create a subclass of tweepy.StreamListener to add a response to on_status\n",
    "\n",
    "class PrintingStreamListener(tweepy.StreamListener):\n",
    "\n",
    "    def on_status(self, status):\n",
    "        print(status.text)\n",
    "        \n",
    "    #disconnect the stream if we receive an error message indicating we are overloading Twitter\n",
    "    \n",
    "    def on_error(self, status_code):\n",
    "        if status_code == 420:\n",
    "            #returning False in on_data disconnects the stream\n",
    "            return False\n",
    " "
   ]
  },
  {
   "cell_type": "markdown",
   "metadata": {},
   "source": [
    "Once we have created our subclass, we can set up our own Twitter stream."
   ]
  },
  {
   "cell_type": "code",
   "execution_count": 13,
   "metadata": {},
   "outputs": [],
   "source": [
    "#We create and authenticate an instance of our new ```PrintingStreamListener``` class\n",
    "\n",
    "my_stream_listener = PrintingStreamListener()\n",
    "my_stream = tweepy.Stream(auth = api.auth, listener=my_stream_listener)"
   ]
  },
  {
   "cell_type": "markdown",
   "metadata": {},
   "source": [
    "We'll use the ```track``` command to look for tweets with a specific keyword.  You can read more about constructing searches with ```track``` in the <a href=\"https://dev.twitter.com/streaming/overview/request-parameters#track\">Twitter streaming API documentation</a>."
   ]
  },
  {
   "cell_type": "code",
   "execution_count": 17,
   "metadata": {
    "scrolled": true
   },
   "outputs": [],
   "source": [
    "# Now, we're ready to start streaming!  We'll look for recent tweets which use the word \"data\".\n",
    "# You can pause the display of tweets by interrupting the Python kernel (use the menu bar at the top)\n",
    "\n",
    "my_stream.filter(track=\"data\", is_async=True)"
   ]
  },
  {
   "cell_type": "code",
   "execution_count": 16,
   "metadata": {},
   "outputs": [],
   "source": [
    "# Even if you pause the display of tweets, your stream is still connected to Twitter!\n",
    "# To disconnect (for example, if you want to change which words you are searching for), \n",
    "# use the disconnect() function.\n",
    "\n",
    "my_stream.disconnect()"
   ]
  },
  {
   "cell_type": "markdown",
   "metadata": {},
   "source": [
    "---\n",
    "\n",
    "## Suggestions for skills to learn\n",
    "\n",
    "* Collect 1000 tweets matching a search, or all available in the current time window, whichever comes first.  That 1000 was arbitrary\n",
    "* Extract just the fields you are most interested in from a search, and create a Pandas data frame\n",
    "* Follow the graph of followers from a specific Twitter user"
   ]
  },
  {
   "cell_type": "markdown",
   "metadata": {},
   "source": [
    "---\n",
    "\n",
    "## Useful resources and links\n",
    "\n",
    "* [the structure of the Status object of Tweepy](https://gist.github.com/dev-techmoe/ef676cdd03ac47ac503e856282077bf2)\n",
    "* [Tweet Data Dictionary](https://developer.twitter.com/en/docs/tweets/data-dictionary/overview/tweet-object)\n",
    "* [Standard Operators](https://developer.twitter.com/en/docs/tweets/search/guides/standard-operators) -- premium operators cost money.\n",
    "* [Twitter operators by product](https://developer.twitter.com/en/docs/tweets/rules-and-filtering/overview/operators-by-product) -- by product they mean *paid access level*\n",
    "* [How to use Twitter’s Search REST API most effectively](https://www.karambelkar.info/2015/01/how-to-use-twitters-search-rest-api-most-effectively./)\n",
    "* [Collecting Tweets with Tweepy](http://www.dealingdata.net/2016/07/23/PoGo-Series-Tweepy/)\n"
   ]
  }
 ],
 "metadata": {
  "kernelspec": {
   "display_name": "Venv",
   "language": "python",
   "name": "venv"
  },
  "language_info": {
   "codemirror_mode": {
    "name": "ipython",
    "version": 3
   },
   "file_extension": ".py",
   "mimetype": "text/x-python",
   "name": "python",
   "nbconvert_exporter": "python",
   "pygments_lexer": "ipython3",
   "version": "3.7.0"
  }
 },
 "nbformat": 4,
 "nbformat_minor": 1
}
